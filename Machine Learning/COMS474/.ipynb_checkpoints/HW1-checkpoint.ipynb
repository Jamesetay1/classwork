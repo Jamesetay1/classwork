{
 "cells": [
  {
   "cell_type": "markdown",
   "metadata": {},
   "source": [
    "# COMS 474 HW1Q1 by James Taylor\n",
    "\n",
    "### Queston 1A & 1B:"
   ]
  },
  {
   "cell_type": "code",
   "execution_count": 70,
   "metadata": {
    "scrolled": true
   },
   "outputs": [
    {
     "name": "stdout",
     "output_type": "stream",
     "text": [
      "[[ 0.         -7.01190476  1.69345238 -0.09821429]]\n"
     ]
    },
    {
     "data": {
      "image/png": "[encoded data removed]",
      "text/plain": [
       "<Figure size 432x288 with 1 Axes>"
      ]
     },
     "metadata": {
      "needs_background": "light"
     },
     "output_type": "display_data"
    }
   ],
   "source": [
    "import numpy as np\n",
    "import matplotlib.pyplot as plt\n",
    "from sklearn.linear_model import LinearRegression\n",
    "\n",
    "def coef(x):\n",
    "    return [x**0, x**1, x**2, x**3]\n",
    "\n",
    "x = [0, 5, 8, 12]\n",
    "X = np.array(list(map(coef, x)))\n",
    "y = np.array([10, 5, 12, 0]).reshape(4, 1)\n",
    "reg = LinearRegression().fit(X, y)\n",
    "\n",
    "def predict3rdOrder(x):\n",
    "    return reg.predict(np.array([coef(x)]))[0][0]\n",
    "\n",
    "curvePlotX = np.linspace(-5, 20, 100)\n",
    "curvePlotY = np.array(list(map(predict3rdOrder, curvePlotX))).reshape(100, 1)\n",
    "print(reg.coef_)\n",
    "plt.clf()\n",
    "plt.plot(curvePlotX, curvePlotY, c='red')\n",
    "plt.scatter(x, y, c='black')\n",
    "plt.axis([-5, 20, -5, 20])\n",
    "plt.show()"
   ]
  },
  {
   "cell_type": "code",
   "execution_count": null,
   "metadata": {},
   "outputs": [],
   "source": [
    "### Question 1C:\n",
    "\n",
    "If you used a different loss function would absolutely give a different polynomial. MSE puts a larger weight on huge errors, ensuring there is no outlier predictions. MAE does not put as much weight on outliers since it is linear and not squared.\n",
    "\n"
   ]
  },
  {
   "cell_type": "markdown",
   "metadata": {},
   "source": [
    "### Question 1D:"
   ]
  },
  {
   "cell_type": "code",
   "execution_count": 80,
   "metadata": {
    "scrolled": true
   },
   "outputs": [
    {
     "data": {
      "image/png": "[encoded data removed]",
      "text/plain": [
       "<Figure size 432x288 with 1 Axes>"
      ]
     },
     "metadata": {
      "needs_background": "light"
     },
     "output_type": "display_data"
    }
   ],
   "source": [
    "uniformRand = np.sort(np.random.uniform(0, 15, 30))\n",
    "uniformPredicted = np.array(list(map(predict3rdOrder, uniformRand))).reshape(30, 1)\n",
    "normal = np.random.normal(0, 10, 30).reshape(30, 1)\n",
    "withNoise = uniformPredicted + normal\n",
    "\n",
    "plt.plot(uniformRand, uniformPredicted, c='red')\n",
    "plt.scatter(uniformRand, withNoise, c='black')\n",
    "plt.show()"
   ]
  },
  {
   "cell_type": "markdown",
   "metadata": {},
   "source": [
    "### Question 1E:"
   ]
  },
  {
   "cell_type": "code",
   "execution_count": 82,
   "metadata": {},
   "outputs": [
    {
     "name": "stdout",
     "output_type": "stream",
     "text": [
      "[-10.          -9.6969697   -9.39393939  -9.09090909  -8.78787879\n",
      "  -8.48484848  -8.18181818  -7.87878788  -7.57575758  -7.27272727\n",
      "  -6.96969697  -6.66666667  -6.36363636  -6.06060606  -5.75757576\n",
      "  -5.45454545  -5.15151515  -4.84848485  -4.54545455  -4.24242424\n",
      "  -3.93939394  -3.63636364  -3.33333333  -3.03030303  -2.72727273\n",
      "  -2.42424242  -2.12121212  -1.81818182  -1.51515152  -1.21212121\n",
      "  -0.90909091  -0.60606061  -0.3030303    0.           0.3030303\n",
      "   0.60606061   0.90909091   1.21212121   1.51515152   1.81818182\n",
      "   2.12121212   2.42424242   2.72727273   3.03030303   3.33333333\n",
      "   3.63636364   3.93939394   4.24242424   4.54545455   4.84848485\n",
      "   5.15151515   5.45454545   5.75757576   6.06060606   6.36363636\n",
      "   6.66666667   6.96969697   7.27272727   7.57575758   7.87878788\n",
      "   8.18181818   8.48484848   8.78787879   9.09090909   9.39393939\n",
      "   9.6969697   10.          10.3030303   10.60606061  10.90909091\n",
      "  11.21212121  11.51515152  11.81818182  12.12121212  12.42424242\n",
      "  12.72727273  13.03030303  13.33333333  13.63636364  13.93939394\n",
      "  14.24242424  14.54545455  14.84848485  15.15151515  15.45454545\n",
      "  15.75757576  16.06060606  16.36363636  16.66666667  16.96969697\n",
      "  17.27272727  17.57575758  17.87878788  18.18181818  18.48484848\n",
      "  18.78787879  19.09090909  19.39393939  19.6969697   20.        ]\n"
     ]
    }
   ],
   "source": [
    "#MSE \n",
    "curvePlotX = np.linspace(-10, 20, 100)\n",
    "print(curvePlotX)\n",
    "curvePlotY = []\n"
   ]
  },
  {
   "cell_type": "code",
   "execution_count": null,
   "metadata": {},
   "outputs": [],
   "source": []
  }
 ],
 "metadata": {
  "kernelspec": {
   "display_name": "Python 3",
   "language": "python",
   "name": "python3"
  },
  "language_info": {
   "codemirror_mode": {
    "name": "ipython",
    "version": 3
   },
   "file_extension": ".py",
   "mimetype": "text/x-python",
   "name": "python",
   "nbconvert_exporter": "python",
   "pygments_lexer": "ipython3",
   "version": "3.7.4"
  }
 },
 "nbformat": 4,
 "nbformat_minor": 2
}
