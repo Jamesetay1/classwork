{
 "cells": [
  {
   "cell_type": "code",
   "execution_count": 20,
   "metadata": {},
   "outputs": [
    {
     "name": "stdout",
     "output_type": "stream",
     "text": [
      "10\n"
     ]
    }
   ],
   "source": [
    "def foo(x):\n",
    "\n",
    "    if x>10:\n",
    "\n",
    "               return 10\n",
    "\n",
    "    elif x>8:\n",
    "\n",
    "               return 8\n",
    "\n",
    "    else:\n",
    "\n",
    "               return x\n",
    "\n",
    "    x = x + 1\n",
    "\n",
    "    return x\n",
    "\n",
    " \n",
    "\n",
    "s = \"Happy Valentine's Day\"\n",
    "\n",
    "y = foo(len(s))\n",
    "\n",
    "print(y)"
   ]
  },
  {
   "cell_type": "code",
   "execution_count": 10,
   "metadata": {},
   "outputs": [
    {
     "name": "stdout",
     "output_type": "stream",
     "text": [
      "The negative number  -10  is not valid here.\n"
     ]
    }
   ],
   "source": [
    "# Secondary program III\n",
    "if x < 0:\n",
    "    print(\"The negative number \",  x, \" is not valid here.\")\n",
    "elif x > 0:\n",
    "    print(x, \" is a positive number\")\n",
    "else:\n",
    "    print(x, \" is 0\")\n"
   ]
  },
  {
   "cell_type": "code",
   "execution_count": 19,
   "metadata": {},
   "outputs": [
    {
     "name": "stdout",
     "output_type": "stream",
     "text": [
      "           City Colors Reported Shape Reported State             Time  \\\n",
      "0        Ithaca             NaN       TRIANGLE    NY   6/1/1930 22:00   \n",
      "1   Willingboro             NaN          OTHER    NJ  6/30/1930 20:00   \n",
      "3       Abilene             NaN           DISK    KS   6/1/1931 13:00   \n",
      "5   Valley City             NaN           DISK    ND  9/15/1934 15:30   \n",
      "10      Fontana             NaN          LIGHT    CA  8/15/1937 21:00   \n",
      "\n",
      "           Location  \n",
      "0        Ithaca, NY  \n",
      "1   Willingboro, NJ  \n",
      "3       Abilene, KS  \n",
      "5   Valley City, ND  \n",
      "10      Fontana, CA  \n",
      "                       City Colors Reported Shape Reported State  \\\n",
      "0                    Ithaca             NaN       TRIANGLE    NY   \n",
      "1               Willingboro             NaN          OTHER    NJ   \n",
      "2                   Holyoke             NaN           OVAL    CO   \n",
      "3                   Abilene             NaN           DISK    KS   \n",
      "4      New York Worlds Fair             NaN          LIGHT    NY   \n",
      "5               Valley City             NaN           DISK    ND   \n",
      "6               Crater Lake             NaN         CIRCLE    CA   \n",
      "7                      Alma             NaN           DISK    MI   \n",
      "8                   Eklutna             NaN          CIGAR    AK   \n",
      "9                   Hubbard             NaN       CYLINDER    OR   \n",
      "10                  Fontana             NaN          LIGHT    CA   \n",
      "11                 Waterloo             NaN       FIREBALL    AL   \n",
      "12                   Belton             RED         SPHERE    SC   \n",
      "13                   Keokuk             NaN           OVAL    IA   \n",
      "14                Ludington             NaN           DISK    MI   \n",
      "15              Forest Home             NaN         CIRCLE    CA   \n",
      "16              Los Angeles             NaN            NaN    CA   \n",
      "17                Hapeville             NaN            NaN    GA   \n",
      "18                   Oneida             NaN      RECTANGLE    TN   \n",
      "19               Bering Sea             RED          OTHER    AK   \n",
      "20                 Nebraska             NaN           DISK    NE   \n",
      "21                      NaN             NaN            NaN    LA   \n",
      "22                      NaN             NaN          LIGHT    LA   \n",
      "23                Owensboro             NaN      RECTANGLE    KY   \n",
      "24               Wilderness             NaN           DISK    WV   \n",
      "25                San Diego             NaN          CIGAR    CA   \n",
      "26               Wilderness             NaN           DISK    WV   \n",
      "27                   Clovis             NaN           DISK    NM   \n",
      "28               Los Alamos             NaN           DISK    NM   \n",
      "29             Ft. Duschene             NaN           DISK    UT   \n",
      "...                     ...             ...            ...   ...   \n",
      "18211               Holyoke             NaN        DIAMOND    MA   \n",
      "18212                Carson             NaN           DISK    CA   \n",
      "18213              Pasadena           GREEN       FIREBALL    CA   \n",
      "18214                Austin             NaN      FORMATION    TX   \n",
      "18215              El Campo             NaN          OTHER    TX   \n",
      "18216          Garden Grove          ORANGE          LIGHT    CA   \n",
      "18217         Berthoud Pass             NaN       TRIANGLE    CO   \n",
      "18218            Sisterdale             NaN        DIAMOND    TX   \n",
      "18219          Garden Grove             NaN        CHEVRON    CA   \n",
      "18220           Shasta Lake            BLUE           DISK    CA   \n",
      "18221              Franklin             NaN           DISK    NH   \n",
      "18222        Albrightsville             NaN          OTHER    PA   \n",
      "18223            Greenville             NaN            NaN    SC   \n",
      "18224               Eufaula             NaN           DISK    OK   \n",
      "18225           Simi Valley             NaN      FORMATION    CA   \n",
      "18226         San Francisco             NaN      FORMATION    CA   \n",
      "18227         San Francisco             NaN       TRIANGLE    CA   \n",
      "18228            Kingsville             NaN          LIGHT    TX   \n",
      "18229               Chicago             NaN           DISK    IL   \n",
      "18230           Pismo Beach             NaN           OVAL    CA   \n",
      "18231           Pismo Beach             NaN           OVAL    CA   \n",
      "18232                  Lodi             NaN            NaN    WI   \n",
      "18233             Anchorage             RED        VARIOUS    AK   \n",
      "18234              Capitola             NaN       TRIANGLE    CA   \n",
      "18235        Fountain Hills             NaN            NaN    AZ   \n",
      "18236            Grant Park             NaN       TRIANGLE    IL   \n",
      "18237           Spirit Lake             NaN           DISK    IA   \n",
      "18238           Eagle River             NaN            NaN    WI   \n",
      "18239           Eagle River             RED          LIGHT    WI   \n",
      "18240                  Ybor             NaN           OVAL    FL   \n",
      "\n",
      "                   Time                  Location  \n",
      "0        6/1/1930 22:00                Ithaca, NY  \n",
      "1       6/30/1930 20:00           Willingboro, NJ  \n",
      "2       2/15/1931 14:00               Holyoke, CO  \n",
      "3        6/1/1931 13:00               Abilene, KS  \n",
      "4       4/18/1933 19:00  New York Worlds Fair, NY  \n",
      "5       9/15/1934 15:30           Valley City, ND  \n",
      "6        6/15/1935 0:00           Crater Lake, CA  \n",
      "7        7/15/1936 0:00                  Alma, MI  \n",
      "8      10/15/1936 17:00               Eklutna, AK  \n",
      "9        6/15/1937 0:00               Hubbard, OR  \n",
      "10      8/15/1937 21:00               Fontana, CA  \n",
      "11       6/1/1939 20:00              Waterloo, AL  \n",
      "12      6/30/1939 20:00                Belton, SC  \n",
      "13        7/7/1939 2:00                Keokuk, IA  \n",
      "14       6/1/1941 13:00             Ludington, MI  \n",
      "15       7/2/1941 11:30           Forest Home, CA  \n",
      "16       2/25/1942 0:00           Los Angeles, CA  \n",
      "17       6/1/1942 22:30             Hapeville, GA  \n",
      "18       7/15/1942 1:00                Oneida, TN  \n",
      "19      4/30/1943 23:00            Bering Sea, AK  \n",
      "20       6/1/1943 15:00              Nebraska, NE  \n",
      "21       8/15/1943 0:00                       NaN  \n",
      "22       8/15/1943 0:00                       NaN  \n",
      "23     10/15/1943 11:00             Owensboro, KY  \n",
      "24       1/1/1944 10:00            Wilderness, WV  \n",
      "25       1/1/1944 12:00             San Diego, CA  \n",
      "26       1/1/1944 12:00            Wilderness, WV  \n",
      "27       4/2/1944 11:00                Clovis, NM  \n",
      "28       6/1/1944 12:00            Los Alamos, NM  \n",
      "29      6/30/1944 10:00          Ft. Duschene, UT  \n",
      "...                 ...                       ...  \n",
      "18211  12/28/2000 18:00               Holyoke, MA  \n",
      "18212  12/28/2000 18:20                Carson, CA  \n",
      "18213  12/28/2000 19:10              Pasadena, CA  \n",
      "18214   12/29/2000 0:00                Austin, TX  \n",
      "18215   12/29/2000 9:00              El Campo, TX  \n",
      "18216  12/29/2000 16:10          Garden Grove, CA  \n",
      "18217  12/29/2000 19:30         Berthoud Pass, CO  \n",
      "18218  12/29/2000 20:00            Sisterdale, TX  \n",
      "18219  12/29/2000 20:30          Garden Grove, CA  \n",
      "18220  12/29/2000 20:30           Shasta Lake, CA  \n",
      "18221  12/29/2000 20:50              Franklin, NH  \n",
      "18222  12/29/2000 21:00        Albrightsville, PA  \n",
      "18223  12/29/2000 22:00            Greenville, SC  \n",
      "18224  12/29/2000 23:30               Eufaula, OK  \n",
      "18225  12/30/2000 10:00           Simi Valley, CA  \n",
      "18226  12/30/2000 22:00         San Francisco, CA  \n",
      "18227  12/30/2000 22:00         San Francisco, CA  \n",
      "18228   12/31/2000 4:00            Kingsville, TX  \n",
      "18229  12/31/2000 11:45               Chicago, IL  \n",
      "18230  12/31/2000 20:00           Pismo Beach, CA  \n",
      "18231  12/31/2000 20:00           Pismo Beach, CA  \n",
      "18232  12/31/2000 20:30                  Lodi, WI  \n",
      "18233  12/31/2000 21:00             Anchorage, AK  \n",
      "18234  12/31/2000 22:00              Capitola, CA  \n",
      "18235  12/31/2000 23:00        Fountain Hills, AZ  \n",
      "18236  12/31/2000 23:00            Grant Park, IL  \n",
      "18237  12/31/2000 23:00           Spirit Lake, IA  \n",
      "18238  12/31/2000 23:45           Eagle River, WI  \n",
      "18239  12/31/2000 23:45           Eagle River, WI  \n",
      "18240  12/31/2000 23:59                  Ybor, FL  \n",
      "\n",
      "[18241 rows x 6 columns]\n"
     ]
    }
   ],
   "source": [
    "import pandas as pd\n",
    "\n",
    "ufo = pd.read_csv('http://bit.ly/uforeports')\n",
    "#print(ufo_reports)\n",
    "ufo['Location'] = ufo['City'].str.cat(ufo['State'],sep=\", \")\n",
    "\n",
    "#print(ufo_reports['Location'])\n",
    "print(ufo.iloc[[0,1,3,5,10],])\n",
    "print(ufo_reports)"
   ]
  },
  {
   "cell_type": "code",
   "execution_count": 16,
   "metadata": {},
   "outputs": [],
   "source": [
    "movies = pd.read_csv('http://bit.ly/movieusers', sep='|', header = None)\n",
    "#print(movies)"
   ]
  },
  {
   "cell_type": "code",
   "execution_count": 20,
   "metadata": {},
   "outputs": [
    {
     "data": {
      "text/plain": [
       "0.25"
      ]
     },
     "execution_count": 20,
     "metadata": {},
     "output_type": "execute_result"
    }
   ],
   "source": [
    "data = pd.Series([0.25, 0.5, 0.75, 1.0], index=[2, 5, 3, 7])\n",
    "data[2]"
   ]
  },
  {
   "cell_type": "code",
   "execution_count": null,
   "metadata": {},
   "outputs": [],
   "source": []
  }
 ],
 "metadata": {
  "kernelspec": {
   "display_name": "Python 3",
   "language": "python",
   "name": "python3"
  },
  "language_info": {
   "codemirror_mode": {
    "name": "ipython",
    "version": 3
   },
   "file_extension": ".py",
   "mimetype": "text/x-python",
   "name": "python",
   "nbconvert_exporter": "python",
   "pygments_lexer": "ipython3",
   "version": "3.7.3"
  }
 },
 "nbformat": 4,
 "nbformat_minor": 2
}
