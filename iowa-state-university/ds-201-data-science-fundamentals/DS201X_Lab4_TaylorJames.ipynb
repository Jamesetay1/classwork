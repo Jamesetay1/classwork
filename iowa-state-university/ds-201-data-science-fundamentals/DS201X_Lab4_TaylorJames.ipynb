{
 "cells": [
  {
   "cell_type": "code",
   "execution_count": null,
   "metadata": {},
   "outputs": [
    {
     "name": "stdout",
     "output_type": "stream",
     "text": [
      "What is your final point?:3\n",
      "Your points: 3.0 Your letter grade is: F, Sorry you fail\n",
      "Do you have more student's Final points?: I do\n",
      "What is your final point?:55\n",
      "Your points: 55.0 Your letter grade is: F, Sorry you fail\n"
     ]
    }
   ],
   "source": [
    "#The lab videos don't quite follow the written instructions, \n",
    "#I followed the written instrucitons so I have final_points being passed as a parameter to Letter_grade\n",
    "\n",
    "def Letter_grade(final_points): \n",
    "    while 0<= final_points <= 100:\n",
    "        if final_points >= 92.5:\n",
    "            print(\"Your points: \" + str(final_points) + \" Your letter grade is: A, good job!\")\n",
    "        elif final_points >= 82.5:\n",
    "            print(\"Your points: \" + str(final_points) + \" Your letter grade is: B\")\n",
    "        elif final_points >= 72.5:\n",
    "            print(\"Your points: \" + str(final_points) + \" Your letter grade is: C\")\n",
    "        elif final_points >= 62.5:\n",
    "            print(\"Your points: \" + str(final_points) + \" Your letter grade is: D\")\n",
    "        else:\n",
    "            print(\"Your points: \" + str(final_points) + \" Your letter grade is: F, Sorry you fail\")\n",
    "        break\n",
    "    \n",
    "def more_students():\n",
    "    while True: \n",
    "        answer = input(\"Do you have more student's Final points?: \")\n",
    "        if answer in ['Yes', 'yes', 'Y', 'y', 'I do'] :\n",
    "            final_points = float(input(\"What is your final point?:\"))\n",
    "            Letter_grade(final_points)\n",
    "        else: \n",
    "            print(\"Grade report complete!\")\n",
    "            return\n",
    "    \n",
    "\n",
    "def main():\n",
    "    final_points = float(input(\"What is your final point?:\"))\n",
    "    Letter_grade(final_points)\n",
    "    more_students()\n",
    "if __name__ == '__main__':\n",
    "    main()\n"
   ]
  },
  {
   "cell_type": "code",
   "execution_count": null,
   "metadata": {},
   "outputs": [],
   "source": []
  },
  {
   "cell_type": "code",
   "execution_count": null,
   "metadata": {},
   "outputs": [],
   "source": []
  }
 ],
 "metadata": {
  "kernelspec": {
   "display_name": "Python 3",
   "language": "python",
   "name": "python3"
  },
  "language_info": {
   "codemirror_mode": {
    "name": "ipython",
    "version": 3
   },
   "file_extension": ".py",
   "mimetype": "text/x-python",
   "name": "python",
   "nbconvert_exporter": "python",
   "pygments_lexer": "ipython3",
   "version": "3.7.4"
  }
 },
 "nbformat": 4,
 "nbformat_minor": 2
}
