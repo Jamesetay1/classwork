{
 "cells": [
  {
   "cell_type": "code",
   "execution_count": 77,
   "metadata": {},
   "outputs": [
    {
     "name": "stdout",
     "output_type": "stream",
     "text": [
      "     0    1    2\n",
      "0  1.0  1.0  0.0\n",
      "1  0.0  1.0  0.0\n",
      "2  2.0  0.0  1.0\n",
      "3  3.0  0.0  1.0\n",
      "\n",
      "[1.]\n",
      "\n",
      "a value of 1 means orange, and based on some other tests I have doneI suspect the skin is indeed the more important decision\n"
     ]
    }
   ],
   "source": [
    "import pandas as pd\n",
    "import numpy as np\n",
    "from sklearn.tree import DecisionTreeClassifier\n",
    "from sklearn.preprocessing import OrdinalEncoder\n",
    "\n",
    "enc = OrdinalEncoder()\n",
    "#dataframe = {'Weight':[140, 130, 150, 170], 'Skin':['Smooth', 'Smooth', 'Bumpy', 'Bumpy'], 'Fruit':['Apple', 'Apple', 'Orange', 'Orange']}\n",
    "\n",
    "array_to_encode = [[140, 'Smooth', 'Apple'], [130, 'Smooth', 'Apple'], [150, 'Bumpy', 'Orange'], [170, 'Bumpy', 'Orange']]\n",
    "enc.fit(array_to_encode)\n",
    "encoded_array = enc.transform(array_to_encode)\n",
    "df = pd.DataFrame(data=encoded_array)\n",
    "enc.fit(df)\n",
    "print(str(df) + \"\\n\")\n",
    "\n",
    "features = df.iloc[:, 0:2]\n",
    "label = df.iloc[:, 2:3]\n",
    "clf = DecisionTreeClassifier()\n",
    "clf.fit(features, label)\n",
    "\n",
    "#Predict 140, bumpy\n",
    "array = np.array([[140, 0]])\n",
    "array.reshape(1, -1)\n",
    "\n",
    "print(str(clf.predict(array)) + \"\\n\")\n",
    "print(\"a value of 1 means orange, and based on some other tests I have done\" +\n",
    "      \"I suspect the skin is indeed the more important decision\")\n"
   ]
  },
  {
   "cell_type": "code",
   "execution_count": 79,
   "metadata": {},
   "outputs": [
    {
     "name": "stdout",
     "output_type": "stream",
     "text": [
      "     0    1    2\n",
      "0  0.0  2.0  0.0\n",
      "1  0.0  3.0  2.0\n",
      "2  1.0  4.0  1.0\n",
      "3  0.0  5.0  2.0\n",
      "4  1.0  0.0  0.0\n",
      "5  1.0  1.0  0.0\n",
      "\n",
      "Prediction: [0. 0.]\n",
      "\n",
      "Both are predicted as 0, which is shown to be Pokemon Go. This makes sense as they are both young,and the other Pokemon Go players were young regardless of age\n"
     ]
    }
   ],
   "source": [
    "import pandas as pd\n",
    "import numpy as np\n",
    "from sklearn.tree import DecisionTreeClassifier\n",
    "from sklearn.preprocessing import OrdinalEncoder\n",
    "\n",
    "enc = OrdinalEncoder()\n",
    "array_to_encode = [['F', 15, 'Pokemon Go'], ['F', 25, 'WhatsApp'], ['M', 32, 'Snap Chat'], ['F', 40, 'WhatsApp'], ['M', 12, 'Pokemon Go'], ['M', 14, 'Pokemon Go']]\n",
    "enc.fit(array_to_encode)\n",
    "encoded_array = enc.transform(array_to_encode)\n",
    "df = pd.DataFrame(data=encoded_array)\n",
    "enc.fit(df)\n",
    "print(str(df) + \"\\n\")\n",
    "\n",
    "features = df.iloc[:, 0:2]\n",
    "label = df.iloc[:, 2:3]\n",
    "clf = DecisionTreeClassifier()\n",
    "clf.fit(features, label)\n",
    "\n",
    "#Predict M, 21 & F, 18\n",
    "array_to_encode = [['M', 21], ['F', 18]]\n",
    "enc.fit(array_to_encode)\n",
    "encoded_array = enc.transform(array_to_encode)\n",
    "df = pd.DataFrame(data=encoded_array)\n",
    "enc.fit(df)\n",
    "\n",
    "prediction = np.array(clf.predict(df))\n",
    "\n",
    "print(\"Prediction: \" + str(prediction) + \"\\n\")\n",
    "print(\"Both are predicted as 0, which is shown to be Pokemon Go. This makes sense as they are both young,\" +\n",
    "      \"and the other Pokemon Go players were young regardless of age\")\n"
   ]
  },
  {
   "cell_type": "code",
   "execution_count": null,
   "metadata": {},
   "outputs": [],
   "source": []
  }
 ],
 "metadata": {
  "kernelspec": {
   "display_name": "Python 3",
   "language": "python",
   "name": "python3"
  },
  "language_info": {
   "codemirror_mode": {
    "name": "ipython",
    "version": 3
   },
   "file_extension": ".py",
   "mimetype": "text/x-python",
   "name": "python",
   "nbconvert_exporter": "python",
   "pygments_lexer": "ipython3",
   "version": "3.7.4"
  }
 },
 "nbformat": 4,
 "nbformat_minor": 2
}
