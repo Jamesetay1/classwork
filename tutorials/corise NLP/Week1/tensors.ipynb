{
 "cells": [
  {
   "cell_type": "code",
   "execution_count": 29,
   "metadata": {
    "collapsed": true,
    "pycharm": {
     "name": "#%%\n"
    }
   },
   "outputs": [
    {
     "name": "stdout",
     "output_type": "stream",
     "text": [
      "Looking in indexes: https://pypi.org/simple, https://download.pytorch.org/whl/cu116\n",
      "Requirement already satisfied: torch in c:\\users\\james\\appdata\\local\\r-miniconda\\lib\\site-packages (1.12.0)\n",
      "Requirement already satisfied: torchvision in c:\\users\\james\\appdata\\local\\r-miniconda\\lib\\site-packages (0.13.0+cu116)\n",
      "Requirement already satisfied: torchaudio in c:\\users\\james\\appdata\\local\\r-miniconda\\lib\\site-packages (0.12.0+cu116)\n",
      "Requirement already satisfied: typing-extensions in c:\\users\\james\\appdata\\local\\r-miniconda\\lib\\site-packages (from torch) (4.1.1)\n",
      "Requirement already satisfied: numpy in c:\\users\\james\\appdata\\local\\r-miniconda\\lib\\site-packages (from torchvision) (1.22.3)\n",
      "Requirement already satisfied: pillow!=8.3.*,>=5.3.0 in c:\\users\\james\\appdata\\local\\r-miniconda\\lib\\site-packages (from torchvision) (9.0.1)\n",
      "Requirement already satisfied: requests in c:\\users\\james\\appdata\\local\\r-miniconda\\lib\\site-packages (from torchvision) (2.26.0)\n",
      "Requirement already satisfied: charset-normalizer~=2.0.0 in c:\\users\\james\\appdata\\local\\r-miniconda\\lib\\site-packages (from requests->torchvision) (2.0.4)\n",
      "Requirement already satisfied: urllib3<1.27,>=1.21.1 in c:\\users\\james\\appdata\\local\\r-miniconda\\lib\\site-packages (from requests->torchvision) (1.26.6)\n",
      "Requirement already satisfied: certifi>=2017.4.17 in c:\\users\\james\\appdata\\local\\r-miniconda\\lib\\site-packages (from requests->torchvision) (2022.6.15)\n",
      "Requirement already satisfied: idna<4,>=2.5 in c:\\users\\james\\appdata\\local\\r-miniconda\\lib\\site-packages (from requests->torchvision) (3.2)\n"
     ]
    }
   ],
   "source": [
    "!pip3 install torch torchvision torchaudio --extra-index-url https://download.pytorch.org/whl/cu116"
   ]
  },
  {
   "cell_type": "code",
   "execution_count": 46,
   "outputs": [
    {
     "name": "stdout",
     "output_type": "stream",
     "text": [
      "x = torch.linspace(-math.pi, math.pi, 2000, device=device, dtype=dtype)\n",
      "tensor([-3.1416, -3.1384, -3.1353,  ...,  3.1353,  3.1384,  3.1416])\n",
      "\n",
      "torch.sin(x)\n",
      "tensor([ 8.7423e-08, -3.1430e-03, -6.2863e-03,  ...,  6.2863e-03,\n",
      "         3.1432e-03, -8.7423e-08])\n",
      "\n",
      "a, b, c, d = torch.randn((), device=device, dtype=dtype)\n",
      "tensor(-0.7187) ,  tensor(0.3728) ,  tensor(0.8448) ,  tensor(1.4155)\n",
      "\n",
      "t, loss\n",
      "99 781.9341430664062\n",
      "199 540.6940307617188\n",
      "299 375.1366271972656\n",
      "399 261.3887939453125\n",
      "499 183.14952087402344\n",
      "599 129.27403259277344\n",
      "699 92.13460540771484\n",
      "799 66.5045394897461\n",
      "899 48.798465728759766\n",
      "999 36.55366516113281\n",
      "1099 28.077068328857422\n",
      "1199 22.20321273803711\n",
      "1299 18.129005432128906\n",
      "1399 15.300342559814453\n",
      "1499 13.334675788879395\n",
      "1599 11.967490196228027\n",
      "1699 11.0157470703125\n",
      "1799 10.352666854858398\n",
      "1899 9.890332221984863\n",
      "1999 9.567703247070312\n",
      "\n",
      "Result\n",
      "y = -0.0264368187636137 + 0.8457973599433899 x + 0.004560790024697781 x^2 + -0.09177377074956894 x^3\n"
     ]
    }
   ],
   "source": [
    "import torch\n",
    "#print(torch.__version__)\n",
    "import math\n",
    "\n",
    "dtype = torch.float\n",
    "device = torch.device(\"cpu\")\n",
    "#device = torch.device(\"cuda:0\") # Uncomment this to run on GPU\n",
    "\n",
    "# Create random input and output data\n",
    "x = torch.linspace(-math.pi, math.pi, 2000, device=device, dtype=dtype)\n",
    "y = torch.sin(x)\n",
    "\n",
    "print('x = torch.linspace(-math.pi, math.pi, 2000, device=device, dtype=dtype)')\n",
    "print(x)\n",
    "\n",
    "print('\\ntorch.sin(x)')\n",
    "print(y)\n",
    "\n",
    "# Randomly initialize weights\n",
    "a = torch.randn((), device=device, dtype=dtype)\n",
    "b = torch.randn((), device=device, dtype=dtype)\n",
    "c = torch.randn((), device=device, dtype=dtype)\n",
    "d = torch.randn((), device=device, dtype=dtype)\n",
    "\n",
    "print('\\na, b, c, d = torch.randn((), device=device, dtype=dtype)')\n",
    "print(a, ', ', b, ', ', c, ', ', d)\n",
    "print('\\nt, loss')\n",
    "\n",
    "learning_rate = 1e-6\n",
    "for t in range(2000):\n",
    "    # Forward pass: compute predicted y\n",
    "    y_pred = a + b * x + c * x ** 2 + d * x ** 3\n",
    "\n",
    "    # Compute and print loss\n",
    "    loss = (y_pred - y).pow(2).sum().item()\n",
    "    if t % 100 == 99:\n",
    "        print(t, loss)\n",
    "\n",
    "    # Backprop to compute gradients of a, b, c, d with respect to loss\n",
    "    grad_y_pred = 2.0 * (y_pred - y)\n",
    "    grad_a = grad_y_pred.sum()\n",
    "    grad_b = (grad_y_pred * x).sum()\n",
    "    grad_c = (grad_y_pred * x ** 2).sum()\n",
    "    grad_d = (grad_y_pred * x ** 3).sum()\n",
    "\n",
    "    # Update weights using gradient descent\n",
    "    a -= learning_rate * grad_a\n",
    "    b -= learning_rate * grad_b\n",
    "    c -= learning_rate * grad_c\n",
    "    d -= learning_rate * grad_d\n",
    "\n",
    "\n",
    "print(f'\\nResult\\ny = {a.item()} + {b.item()} x + {c.item()} x^2 + {d.item()} x^3')"
   ],
   "metadata": {
    "collapsed": false,
    "pycharm": {
     "name": "#%%\n"
    }
   }
  },
  {
   "cell_type": "code",
   "execution_count": null,
   "outputs": [],
   "source": [],
   "metadata": {
    "collapsed": false,
    "pycharm": {
     "name": "#%%\n"
    }
   }
  }
 ],
 "metadata": {
  "kernelspec": {
   "display_name": "Python 3",
   "language": "python",
   "name": "python3"
  },
  "language_info": {
   "codemirror_mode": {
    "name": "ipython",
    "version": 2
   },
   "file_extension": ".py",
   "mimetype": "text/x-python",
   "name": "python",
   "nbconvert_exporter": "python",
   "pygments_lexer": "ipython2",
   "version": "2.7.6"
  }
 },
 "nbformat": 4,
 "nbformat_minor": 0
}