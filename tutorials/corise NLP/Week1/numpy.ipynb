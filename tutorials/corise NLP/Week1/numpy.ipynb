{
 "cells": [
  {
   "cell_type": "markdown",
   "source": [
    "Following this tutorial with a lot of visuals:\n",
    "https://jalammar.github.io/visual-numpy/\n",
    "\n",
    "Using NumPy: https://numpy.org/"
   ],
   "metadata": {
    "collapsed": false,
    "pycharm": {
     "name": "#%% md\n"
    }
   }
  },
  {
   "cell_type": "code",
   "execution_count": 2,
   "outputs": [],
   "source": [
    "import numpy as np"
   ],
   "metadata": {
    "collapsed": false,
    "pycharm": {
     "name": "#%%\n"
    }
   }
  },
  {
   "cell_type": "code",
   "execution_count": 20,
   "outputs": [
    {
     "name": "stdout",
     "output_type": "stream",
     "text": [
      "[1 2 3]\n",
      "np.ones(3) =  [1. 1. 1.]\n",
      "np.zeros(3) =  [0. 0. 0.]\n",
      "np.random.random(3) =  [0.64472401 0.94470244 0.67292081]\n"
     ]
    }
   ],
   "source": [
    "#Initalizing NumPy arrays (ndarray)\n",
    "\n",
    "#From a Python list\n",
    "ndarray_list = np.array([1,2,3])\n",
    "print(ndarray_list)\n",
    "\n",
    "#Ones, zeroes, or random between 0 and 1\n",
    "print('np.ones(3) = ', np.ones(3))\n",
    "print('np.zeros(3) = ', np.zeros(3))\n",
    "print('np.random.random(3) = ', np.random.random(3))"
   ],
   "metadata": {
    "collapsed": false,
    "pycharm": {
     "name": "#%%\n"
    }
   }
  },
  {
   "cell_type": "code",
   "execution_count": 11,
   "outputs": [
    {
     "name": "stdout",
     "output_type": "stream",
     "text": [
      "[1 2]  +  [1. 1.]  =  [2. 3.]\n",
      "[1 2]  -  [1. 1.]  =  [0. 1.]\n",
      "[1 2]  *  [1. 1.]  =  [1. 2.]\n",
      "[1 2]  /  [1. 1.]  =  [1. 2.]\n",
      "[1 2]  *  1.6  =  [1.6 3.2]\n"
     ]
    }
   ],
   "source": [
    "#ARRAY ARITHMETIC\n",
    "data = np.array([1,2])\n",
    "ones = np.ones(2)\n",
    "\n",
    "print(data, ' + ', ones, ' = ', data + ones)\n",
    "print(data, ' - ', ones, ' = ', data - ones)\n",
    "print(data, ' * ', ones, ' = ', data * ones)\n",
    "print(data, ' / ', ones, ' = ', data / ones)\n",
    "print(data, ' * ', 1.6, ' = ', data * 1.6)"
   ],
   "metadata": {
    "collapsed": false,
    "pycharm": {
     "name": "#%%\n"
    }
   }
  },
  {
   "cell_type": "code",
   "execution_count": 14,
   "outputs": [
    {
     "name": "stdout",
     "output_type": "stream",
     "text": [
      "data[0] =  1\n",
      "data[1] =  2\n",
      "data[0:2] =  [1 2]\n",
      "data[1:] =  [2 3]\n"
     ]
    }
   ],
   "source": [
    "#INDEXING\n",
    "data = np.array([1,2,3])\n",
    "print('data[0] = ', data[0])\n",
    "print('data[1] = ', data[1])\n",
    "print('data[0:2] = ', data[0:2])\n",
    "print('data[1:] = ', data[1:])"
   ],
   "metadata": {
    "collapsed": false,
    "pycharm": {
     "name": "#%%\n"
    }
   }
  },
  {
   "cell_type": "code",
   "execution_count": 16,
   "outputs": [
    {
     "name": "stdout",
     "output_type": "stream",
     "text": [
      "data.max() =  3\n",
      "data.min() =  1\n",
      "data.sum() =  6\n",
      "data.prod() =  6\n",
      "data.std() =  0.816496580927726\n"
     ]
    }
   ],
   "source": [
    "#AGGREGATION\n",
    "data = np.array([1,2,3])\n",
    "print('data.max() = ', data.max())\n",
    "print('data.min() = ', data.min())\n",
    "print('data.sum() = ', data.sum())\n",
    "print('data.prod() = ', data.prod())\n",
    "print('data.std() = ', data.std())"
   ],
   "metadata": {
    "collapsed": false,
    "pycharm": {
     "name": "#%%\n"
    }
   }
  },
  {
   "cell_type": "code",
   "execution_count": 24,
   "outputs": [
    {
     "name": "stdout",
     "output_type": "stream",
     "text": [
      "[[1 2]\n",
      " [3 4]]\n",
      "\n",
      "np.ones((3,2))\n",
      " [[1. 1.]\n",
      " [1. 1.]\n",
      " [1. 1.]]\n",
      "\n",
      "np.zeros((3,2))\n",
      " [[0. 0.]\n",
      " [0. 0.]\n",
      " [0. 0.]]\n",
      "\n",
      "np.random.random((3,2))\n",
      " [[0.33143634 0.40787852]\n",
      " [0.35374034 0.87420762]\n",
      " [0.47953813 0.2686969 ]]\n"
     ]
    }
   ],
   "source": [
    "#CREATING MATRICIES\n",
    "matrix_lists = np.array([[1,2],[3,4]])\n",
    "print(matrix_lists)\n",
    "\n",
    "#Can use ones, zeros, and random as well - just pass in a tuple\n",
    "print('\\nnp.ones((3,2))\\n', np.ones((3,2)))\n",
    "print('\\nnp.zeros((3,2))\\n', np.zeros((3,2)))\n",
    "print('\\nnp.random.random((3,2))\\n', np.random.random((3,2)))"
   ],
   "metadata": {
    "collapsed": false,
    "pycharm": {
     "name": "#%%\n"
    }
   }
  },
  {
   "cell_type": "code",
   "execution_count": 31,
   "outputs": [
    {
     "name": "stdout",
     "output_type": "stream",
     "text": [
      "data\n",
      "[[1 2]\n",
      " [3 4]]\n",
      "\n",
      "data + np.ones((2,2))\n",
      "[[2. 3.]\n",
      " [4. 5.]]\n",
      "\n",
      "data + np.ones(2)\n",
      "[[2. 3.]\n",
      " [4. 5.]]\n"
     ]
    }
   ],
   "source": [
    "#MATRIX ARITHMETIC\n",
    "data = np.array([[1,2],[3,4]])\n",
    "print('data')\n",
    "print(data)\n",
    "\n",
    "print('\\ndata + np.ones((2,2))')\n",
    "print(data + np.ones((2,2)))\n",
    "\n",
    "#Same operation as above (by numpy broadcast rules)\n",
    "print('\\ndata + np.ones(2)')\n",
    "print(data + np.ones(2))"
   ],
   "metadata": {
    "collapsed": false,
    "pycharm": {
     "name": "#%%\n"
    }
   }
  },
  {
   "cell_type": "code",
   "execution_count": 36,
   "outputs": [
    {
     "name": "stdout",
     "output_type": "stream",
     "text": [
      "data\n",
      "[1 2 3]\n",
      "\n",
      "power_of_ten\n",
      "[[     1     10]\n",
      " [   100   1000]\n",
      " [ 10000 100000]]\n",
      "\n",
      "data.dot(powers_of_ten)\n",
      "[ 30201 302010]\n"
     ]
    }
   ],
   "source": [
    "#DOT PRODUCT\n",
    "data = np.array([1,2,3])\n",
    "power_of_ten = np.array([[1,10],[100, 1000],[10000, 100000]])\n",
    "print('data')\n",
    "print(data)\n",
    "\n",
    "print('\\npower_of_ten')\n",
    "print(power_of_ten)\n",
    "\n",
    "print('\\ndata.dot(powers_of_ten)')\n",
    "print(data.dot(power_of_ten))"
   ],
   "metadata": {
    "collapsed": false,
    "pycharm": {
     "name": "#%%\n"
    }
   }
  },
  {
   "cell_type": "markdown",
   "source": [
    "Explained Here:\n",
    "\n",
    "![dotproduct](https://jalammar.github.io/images/numpy/numpy-matrix-dot-product-1.png)\n",
    "![dotproduct](https://jalammar.github.io/images/numpy/numpy-matrix-dot-product-2.png)"
   ],
   "metadata": {
    "collapsed": false,
    "pycharm": {
     "name": "#%% md\n"
    }
   }
  },
  {
   "cell_type": "code",
   "execution_count": 48,
   "outputs": [
    {
     "name": "stdout",
     "output_type": "stream",
     "text": [
      "data\n",
      "[[1 2]\n",
      " [3 4]\n",
      " [5 6]]\n",
      "\n",
      "data[row:row, col:col]\n",
      "data[0,1] =  2\n",
      "\n",
      "data[1:3]\n",
      " [[3 4]\n",
      " [5 6]]\n",
      "\n",
      "data[0:2] =  [1 3]\n"
     ]
    }
   ],
   "source": [
    "#MATRIX INDEXING\n",
    "data = np.array([[1,2], [3,4], [5,6]])\n",
    "print('data')\n",
    "print(data)\n",
    "\n",
    "print('\\ndata[row:row, col:col]')\n",
    "print('data[0,1] = ', data[0,1])\n",
    "print('\\ndata[1:3]\\n', data[1:3])\n",
    "print('\\ndata[0:2] = ', data[0:2,0])"
   ],
   "metadata": {
    "collapsed": false,
    "pycharm": {
     "name": "#%%\n"
    }
   }
  },
  {
   "cell_type": "code",
   "execution_count": 55,
   "outputs": [
    {
     "name": "stdout",
     "output_type": "stream",
     "text": [
      "data.max() =  6\n",
      "data.min() =  1\n",
      "data.sum() =  21\n",
      "\n",
      "data.max(axis=0) =  [5 6]\n",
      "data.max(axis=1)\n",
      "[2 4 6]\n"
     ]
    }
   ],
   "source": [
    "#MATRIX AGGREGATION\n",
    "print('data.max() = ', data.max())\n",
    "print('data.min() = ', data.min())\n",
    "print('data.sum() = ', data.sum())"
   ],
   "metadata": {
    "collapsed": false,
    "pycharm": {
     "name": "#%%\n"
    }
   }
  },
  {
   "cell_type": "code",
   "execution_count": 57,
   "outputs": [
    {
     "name": "stdout",
     "output_type": "stream",
     "text": [
      "data\n",
      "[[1 2]\n",
      " [5 3]\n",
      " [4 6]]\n",
      "\n",
      "data.max(axis=0) =  [5 6]\n",
      "data.max(axis=1)\n",
      "[2 5 6]\n"
     ]
    }
   ],
   "source": [
    "data = np.array([[1,2], [5,3], [4,6]])\n",
    "print('data')\n",
    "print(data)\n",
    "\n",
    "#Get max of each column\n",
    "print('\\ndata.max(axis=0) = ', data.max(axis=0))\n",
    "\n",
    "#Get max of each row\n",
    "print('data.max(axis=1)')\n",
    "print(data.max(axis=1))"
   ],
   "metadata": {
    "collapsed": false,
    "pycharm": {
     "name": "#%%\n"
    }
   }
  },
  {
   "cell_type": "code",
   "execution_count": 59,
   "outputs": [
    {
     "name": "stdout",
     "output_type": "stream",
     "text": [
      "data\n",
      "[[1 2]\n",
      " [3 4]\n",
      " [5 6]]\n",
      "\n",
      "data.T\n",
      "[[1 3 5]\n",
      " [2 4 6]]\n"
     ]
    }
   ],
   "source": [
    "data = np.array([[1,2], [3,4], [5,6]])\n",
    "print('data')\n",
    "print(data)\n",
    "\n",
    "print('\\ndata.T')\n",
    "print(data.T)"
   ],
   "metadata": {
    "collapsed": false,
    "pycharm": {
     "name": "#%%\n"
    }
   }
  },
  {
   "cell_type": "code",
   "execution_count": 69,
   "outputs": [
    {
     "name": "stdout",
     "output_type": "stream",
     "text": [
      "data\n",
      "[[1]\n",
      " [2]\n",
      " [3]\n",
      " [4]\n",
      " [5]\n",
      " [6]]\n",
      "\n",
      "data.reshape(2,3)\n",
      "[[1 2 3]\n",
      " [4 5 6]]\n",
      "\n",
      "data.reshape(3,2)\n",
      "[[1 2]\n",
      " [3 4]\n",
      " [5 6]]\n",
      "\n",
      "data.reshape(-1)\n",
      "[1 2 3 4 5 6]\n"
     ]
    }
   ],
   "source": [
    "data = np.array([[1],[2],[3],[4],[5],[6]])\n",
    "print('data')\n",
    "print(data)\n",
    "\n",
    "print('\\ndata.reshape(2,3)')\n",
    "print(data.reshape(2,3))\n",
    "\n",
    "print('\\ndata.reshape(3,2)')\n",
    "print(data.reshape(3,2))\n",
    "\n",
    "print('\\ndata.reshape(-1)')\n",
    "print(data.reshape(-1))"
   ],
   "metadata": {
    "collapsed": false,
    "pycharm": {
     "name": "#%%\n"
    }
   }
  },
  {
   "cell_type": "code",
   "execution_count": 70,
   "outputs": [
    {
     "name": "stdout",
     "output_type": "stream",
     "text": [
      "[[[1 2]\n",
      "  [3 4]]\n",
      "\n",
      " [[5 6]\n",
      "  [7 8]]]\n"
     ]
    }
   ],
   "source": [
    "#N-Dimensional Array\n",
    "cube = np.array([ [[1,2], [3,4]],\n",
    "                  [[5,6], [7,8]]])\n",
    "print(cube)"
   ],
   "metadata": {
    "collapsed": false,
    "pycharm": {
     "name": "#%%\n"
    }
   }
  },
  {
   "cell_type": "markdown",
   "source": [
    "![cube](https://jalammar.github.io/images/numpy/numpy-3d-array-creation.png)"
   ],
   "metadata": {
    "collapsed": false,
    "pycharm": {
     "name": "#%% md\n"
    }
   }
  },
  {
   "cell_type": "code",
   "execution_count": 75,
   "outputs": [
    {
     "name": "stdout",
     "output_type": "stream",
     "text": [
      "predictions\n",
      "[1 1 1]\n",
      "\n",
      "labels\n",
      "[1 2 3]\n",
      "\n",
      " 1.6666666666666665\n"
     ]
    }
   ],
   "source": [
    "#MEAN SQUARED ERROR\n",
    "predictions = np.array([1, 1, 1])\n",
    "labels = np.array([1, 2, 3])\n",
    "print('predictions')\n",
    "print(predictions)\n",
    "\n",
    "print('\\nlabels')\n",
    "print(labels)\n",
    "\n",
    "n = len(predictions)\n",
    "error = (1/n) * np.sum(np.square(predictions - labels))\n",
    "print('\\n', error)"
   ],
   "metadata": {
    "collapsed": false,
    "pycharm": {
     "name": "#%%\n"
    }
   }
  },
  {
   "cell_type": "code",
   "execution_count": null,
   "outputs": [],
   "source": [],
   "metadata": {
    "collapsed": false,
    "pycharm": {
     "name": "#%%\n"
    }
   }
  }
 ],
 "metadata": {
  "kernelspec": {
   "display_name": "Python 3",
   "language": "python",
   "name": "python3"
  },
  "language_info": {
   "codemirror_mode": {
    "name": "ipython",
    "version": 2
   },
   "file_extension": ".py",
   "mimetype": "text/x-python",
   "name": "python",
   "nbconvert_exporter": "python",
   "pygments_lexer": "ipython2",
   "version": "2.7.6"
  }
 },
 "nbformat": 4,
 "nbformat_minor": 0
}