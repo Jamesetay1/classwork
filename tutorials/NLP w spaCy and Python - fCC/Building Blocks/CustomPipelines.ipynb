{
 "cells": [
  {
   "cell_type": "code",
   "execution_count": 1,
   "outputs": [
    {
     "data": {
      "text/plain": "<spacy.pipeline.sentencizer.Sentencizer at 0x1874da24380>"
     },
     "execution_count": 1,
     "metadata": {},
     "output_type": "execute_result"
    }
   ],
   "source": [
    "import spacy\n",
    "\n",
    "nlp = spacy.blank(\"en\") #as opposed to spacy.load()\n",
    "nlp.add_pipe(\"sentencizer\")"
   ],
   "metadata": {
    "collapsed": false,
    "pycharm": {
     "name": "#%%\n"
    }
   }
  },
  {
   "cell_type": "code",
   "execution_count": 2,
   "outputs": [],
   "source": [
    "import requests\n",
    "from bs4 import BeautifulSoup\n",
    "s = requests.get(\"https://ocw.mit.edu/ans7870/6/6.006/s08/lecturenotes/files/t8.shakespeare.txt\")\n",
    "soup = BeautifulSoup(s.content).text.replace(\"-\\n\", \"\").replace(\"\\n\", \" \")\n",
    "nlp.max_length = 5278439"
   ],
   "metadata": {
    "collapsed": false,
    "pycharm": {
     "name": "#%%\n"
    }
   }
  },
  {
   "cell_type": "code",
   "execution_count": 6,
   "outputs": [
    {
     "name": "stdout",
     "output_type": "stream",
     "text": [
      "94134  sentences\n",
      "CPU times: total: 6.39 s\n",
      "Wall time: 6.4 s\n"
     ]
    }
   ],
   "source": [
    "%%time\n",
    "\n",
    "#Get number of sentences in MIT Shakespeare corpus\n",
    "doc = nlp(soup)\n",
    "print(len(list(doc.sents)), ' sentences')\n",
    "\n",
    "#If we used the small model (en_core_web_sm) it would take something like FOURTY FIVE MINUTES\n",
    "#The spacy small English model is doing a million other things, if we just want sentences then make a specific pipeline\n",
    "#The barebones model will be less accurate (94k sentences vs 111k from small model)\n",
    "#Larger models would likely be more accurate yet"
   ],
   "metadata": {
    "collapsed": false,
    "pycharm": {
     "name": "#%%\n"
    }
   }
  },
  {
   "cell_type": "code",
   "execution_count": 7,
   "outputs": [
    {
     "data": {
      "text/plain": "{'summary': {'sentencizer': {'assigns': ['token.is_sent_start', 'doc.sents'],\n   'requires': [],\n   'scores': ['sents_f', 'sents_p', 'sents_r'],\n   'retokenizes': False}},\n 'problems': {'sentencizer': []},\n 'attrs': {'token.is_sent_start': {'assigns': ['sentencizer'], 'requires': []},\n  'doc.sents': {'assigns': ['sentencizer'], 'requires': []}}}"
     },
     "execution_count": 7,
     "metadata": {},
     "output_type": "execute_result"
    }
   ],
   "source": [
    "nlp.analyze_pipes()"
   ],
   "metadata": {
    "collapsed": false,
    "pycharm": {
     "name": "#%%\n"
    }
   }
  },
  {
   "cell_type": "code",
   "execution_count": 8,
   "outputs": [
    {
     "data": {
      "text/plain": "{'summary': {'tok2vec': {'assigns': ['doc.tensor'],\n   'requires': [],\n   'scores': [],\n   'retokenizes': False},\n  'tagger': {'assigns': ['token.tag'],\n   'requires': [],\n   'scores': ['tag_acc'],\n   'retokenizes': False},\n  'parser': {'assigns': ['token.dep',\n    'token.head',\n    'token.is_sent_start',\n    'doc.sents'],\n   'requires': [],\n   'scores': ['dep_uas',\n    'dep_las',\n    'dep_las_per_type',\n    'sents_p',\n    'sents_r',\n    'sents_f'],\n   'retokenizes': False},\n  'attribute_ruler': {'assigns': [],\n   'requires': [],\n   'scores': [],\n   'retokenizes': False},\n  'lemmatizer': {'assigns': ['token.lemma'],\n   'requires': [],\n   'scores': ['lemma_acc'],\n   'retokenizes': False},\n  'ner': {'assigns': ['doc.ents', 'token.ent_iob', 'token.ent_type'],\n   'requires': [],\n   'scores': ['ents_f', 'ents_p', 'ents_r', 'ents_per_type'],\n   'retokenizes': False}},\n 'problems': {'tok2vec': [],\n  'tagger': [],\n  'parser': [],\n  'attribute_ruler': [],\n  'lemmatizer': [],\n  'ner': []},\n 'attrs': {'token.ent_type': {'assigns': ['ner'], 'requires': []},\n  'token.tag': {'assigns': ['tagger'], 'requires': []},\n  'doc.ents': {'assigns': ['ner'], 'requires': []},\n  'token.lemma': {'assigns': ['lemmatizer'], 'requires': []},\n  'token.is_sent_start': {'assigns': ['parser'], 'requires': []},\n  'token.ent_iob': {'assigns': ['ner'], 'requires': []},\n  'token.head': {'assigns': ['parser'], 'requires': []},\n  'token.dep': {'assigns': ['parser'], 'requires': []},\n  'doc.sents': {'assigns': ['parser'], 'requires': []},\n  'doc.tensor': {'assigns': ['tok2vec'], 'requires': []}}}"
     },
     "execution_count": 8,
     "metadata": {},
     "output_type": "execute_result"
    }
   ],
   "source": [
    "nlp2 = spacy.load(\"en_core_web_md\")\n",
    "nlp2.analyze_pipes()"
   ],
   "metadata": {
    "collapsed": false,
    "pycharm": {
     "name": "#%%\n"
    }
   }
  },
  {
   "cell_type": "code",
   "execution_count": null,
   "outputs": [],
   "source": [],
   "metadata": {
    "collapsed": false,
    "pycharm": {
     "name": "#%%\n"
    }
   }
  }
 ],
 "metadata": {
  "kernelspec": {
   "display_name": "Python 3",
   "language": "python",
   "name": "python3"
  },
  "language_info": {
   "codemirror_mode": {
    "name": "ipython",
    "version": 2
   },
   "file_extension": ".py",
   "mimetype": "text/x-python",
   "name": "python",
   "nbconvert_exporter": "python",
   "pygments_lexer": "ipython2",
   "version": "2.7.6"
  }
 },
 "nbformat": 4,
 "nbformat_minor": 0
}